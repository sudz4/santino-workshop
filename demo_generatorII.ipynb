{
 "cells": [
  {
   "cell_type": "code",
   "execution_count": 2,
   "metadata": {},
   "outputs": [],
   "source": [
    "import pandas as pd\n",
    "import numpy as np\n",
    "import requests\n",
    "import json\n",
    "import os"
   ]
  },
  {
   "cell_type": "code",
   "execution_count": 3,
   "metadata": {},
   "outputs": [],
   "source": [
    "from dotenv import load_dotenv"
   ]
  },
  {
   "cell_type": "code",
   "execution_count": 4,
   "metadata": {},
   "outputs": [
    {
     "data": {
      "text/plain": [
       "True"
      ]
     },
     "execution_count": 4,
     "metadata": {},
     "output_type": "execute_result"
    }
   ],
   "source": [
    "load_dotenv()"
   ]
  },
  {
   "cell_type": "code",
   "execution_count": 5,
   "metadata": {},
   "outputs": [],
   "source": [
    "#### servicenow rest api url construction\n",
    "sn_table = 'em_event'\n",
    "instance = os.getenv('pdi_instance')\n",
    "user = os.getenv('pdi_un')\n",
    "pwd = os.getenv('pdi_pw')"
   ]
  },
  {
   "cell_type": "code",
   "execution_count": 6,
   "metadata": {},
   "outputs": [],
   "source": [
    "instance_api_url = f'https://{instance}.service-now.com/api/now/table/{sn_table}' \n",
    "# headers for the rest api\n",
    "headers = {\"Content-Type\":\"application/json\",\"Accept\":\"application/json\"}\n",
    "# do the rest api call\n",
    "response = requests.post(instance_api_url, auth=(user, pwd), headers=headers ,data=\"{\\\"classification\\\":\\\"Security\\\",\\\"source\\\":\\\"UATU\\\",\\\"severity\\\":\\\"Minor\\\",\\\"node\\\":\\\"OWA-SD-01\\\",\\\"description\\\":\\\"This is a test security event\\\",\\\"additional_info\\\":\\\"by sudz from rest api explorer\\\"}\")\n",
    "\n",
    "print(response.status_code)"
   ]
  }
 ],
 "metadata": {
  "kernelspec": {
   "display_name": "santino_venv",
   "language": "python",
   "name": "python3"
  },
  "language_info": {
   "codemirror_mode": {
    "name": "ipython",
    "version": 3
   },
   "file_extension": ".py",
   "mimetype": "text/x-python",
   "name": "python",
   "nbconvert_exporter": "python",
   "pygments_lexer": "ipython3",
   "version": "3.11.1"
  }
 },
 "nbformat": 4,
 "nbformat_minor": 2
}
